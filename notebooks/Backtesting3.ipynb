{
 "cells": [
  {
   "cell_type": "markdown",
   "source": [
    "# Backtesting 3"
   ],
   "metadata": {
    "collapsed": false,
    "pycharm": {
     "name": "#%% md\n"
    }
   }
  },
  {
   "cell_type": "code",
   "execution_count": 1,
   "outputs": [
    {
     "ename": "SyntaxError",
     "evalue": "trailing comma not allowed without surrounding parentheses (1072885929.py, line 10)",
     "output_type": "error",
     "traceback": [
      "\u001B[0;36m  Input \u001B[0;32mIn [1]\u001B[0;36m\u001B[0m\n\u001B[0;31m    from backtesting.test import SMA,\u001B[0m\n\u001B[0m                                     ^\u001B[0m\n\u001B[0;31mSyntaxError\u001B[0m\u001B[0;31m:\u001B[0m trailing comma not allowed without surrounding parentheses\n"
     ]
    }
   ],
   "source": [
    "import numpy as np\n",
    "import pandas as pd\n",
    "import backtrader as bt\n",
    "import talib\n",
    "from backtesting import Backtest, Strategy\n",
    "import seaborn as sns\n",
    "from alpha_vantage.techindicators import TechIndicators\n",
    "from alpha_vantage.timeseries import TimeSeries\n",
    "from backtesting.lib import crossover\n",
    "from backtesting.test import SMA,\n",
    "sns.set_theme(color_codes=True)\n",
    "API_KEY = 'EC1W3AWVDZ3LA1T8'\n",
    "ts= TimeSeries(key=API_KEY,output_format='pandas' )\n",
    "ti = TechIndicators(key=API_KEY,output_format='pandas')\n",
    "sns.set(rc={'figure.figsize':(30,9)})\n",
    "\n"
   ],
   "metadata": {
    "collapsed": false,
    "pycharm": {
     "name": "#%%\n"
    }
   }
  },
  {
   "cell_type": "code",
   "execution_count": null,
   "outputs": [],
   "source": [
    "from utils.OHLC_Helper import getAlphaOHLC\n",
    "\n",
    "ticker = 'TSLA'\n",
    "interval = '1min'\n",
    "df_unstructed, meta_data =ts.get_intraday(symbol=ticker, interval=interval, outputsize='full', )\n",
    "# df_unstructed,meta_data =ts.get_daily(symbol='BA',outputsize='full')\n",
    "df = getAlphaOHLC(df_unstructed, )\n",
    "df=df\n",
    "class SmaCross(Strategy):\n",
    "    n1 = 10\n",
    "    n2 = 100\n",
    "\n",
    "    def init(self):\n",
    "        close = self.data.Close\n",
    "        self.sma1 = self.I(talib.EMA, close, self.n1)\n",
    "        self.sma2 = self.I(talib.SMA, close, self.n2)\n",
    "\n",
    "    def next(self):\n",
    "        if crossover(self.sma1, self.sma2):\n",
    "            self.buy()\n",
    "        elif crossover(self.sma2, self.sma1):\n",
    "            self.sell()\n",
    "\n",
    "\n",
    "\n",
    "bt = Backtest(df, SmaCross,\n",
    "              cash=10000, commission=0,\n",
    "              exclusive_orders=True,)\n",
    "\n",
    "print('Backtest:')\n",
    "output = bt.run()\n",
    "# print(output)\n",
    "bt.plot()\n",
    "output\n"
   ],
   "metadata": {
    "collapsed": false,
    "pycharm": {
     "name": "#%%\n"
    }
   }
  }
 ],
 "metadata": {
  "kernelspec": {
   "display_name": "Python 3",
   "language": "python",
   "name": "python3"
  },
  "language_info": {
   "codemirror_mode": {
    "name": "ipython",
    "version": 2
   },
   "file_extension": ".py",
   "mimetype": "text/x-python",
   "name": "python",
   "nbconvert_exporter": "python",
   "pygments_lexer": "ipython2",
   "version": "2.7.6"
  }
 },
 "nbformat": 4,
 "nbformat_minor": 0
}