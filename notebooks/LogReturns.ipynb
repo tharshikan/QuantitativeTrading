{
 "cells": [
  {
   "cell_type": "markdown",
   "metadata": {
    "pycharm": {
     "name": "#%% md\n"
    }
   },
   "source": [
    "# Log Returns"
   ]
  },
  {
   "cell_type": "code",
   "execution_count": 1,
   "metadata": {
    "pycharm": {
     "name": "#%%\n"
    }
   },
   "outputs": [],
   "source": [
    "import numpy as np\n",
    "import pandas as pd"
   ]
  },
  {
   "cell_type": "code",
   "execution_count": 2,
   "metadata": {
    "pycharm": {
     "name": "#%%\n"
    }
   },
   "outputs": [
    {
     "data": {
      "text/plain": "      log10\n1  0.000000\n2  0.301030\n3  0.477121\n4  0.602060\n5  0.698970\n6  0.778151\n7  0.845098\n8  0.903090\n9  0.954243",
      "text/html": "<div>\n<style scoped>\n    .dataframe tbody tr th:only-of-type {\n        vertical-align: middle;\n    }\n\n    .dataframe tbody tr th {\n        vertical-align: top;\n    }\n\n    .dataframe thead th {\n        text-align: right;\n    }\n</style>\n<table border=\"1\" class=\"dataframe\">\n  <thead>\n    <tr style=\"text-align: right;\">\n      <th></th>\n      <th>log10</th>\n    </tr>\n  </thead>\n  <tbody>\n    <tr>\n      <th>1</th>\n      <td>0.000000</td>\n    </tr>\n    <tr>\n      <th>2</th>\n      <td>0.301030</td>\n    </tr>\n    <tr>\n      <th>3</th>\n      <td>0.477121</td>\n    </tr>\n    <tr>\n      <th>4</th>\n      <td>0.602060</td>\n    </tr>\n    <tr>\n      <th>5</th>\n      <td>0.698970</td>\n    </tr>\n    <tr>\n      <th>6</th>\n      <td>0.778151</td>\n    </tr>\n    <tr>\n      <th>7</th>\n      <td>0.845098</td>\n    </tr>\n    <tr>\n      <th>8</th>\n      <td>0.903090</td>\n    </tr>\n    <tr>\n      <th>9</th>\n      <td>0.954243</td>\n    </tr>\n  </tbody>\n</table>\n</div>"
     },
     "execution_count": 2,
     "metadata": {},
     "output_type": "execute_result"
    }
   ],
   "source": [
    "log10Series = np.log10(np.array([1,2,3,4,5,6,7,8,9]))\n",
    "df = pd.DataFrame(log10Series, columns=['log10'],index=[1,2,3,4,5,6,7,8,9])\n",
    "df"
   ]
  },
  {
   "cell_type": "code",
   "execution_count": 2,
   "outputs": [],
   "source": [],
   "metadata": {
    "collapsed": false,
    "pycharm": {
     "name": "#%%\n"
    }
   }
  },
  {
   "cell_type": "code",
   "execution_count": 3,
   "metadata": {
    "pycharm": {
     "name": "#%%\n"
    }
   },
   "outputs": [
    {
     "data": {
      "text/plain": "         powr10          diff  logOfDiff  log  cumLog   exp  \\\n2           100  9.000000e+01   1.954243  1.0     1.0  10.0   \n3          1000  9.000000e+02   2.954243  1.0     2.0  10.0   \n4         10000  9.000000e+03   3.954243  1.0     3.0  10.0   \n5        100000  9.000000e+04   4.954243  1.0     4.0  10.0   \n6       1000000  9.000000e+05   5.954243  1.0     5.0  10.0   \n7      10000000  9.000000e+06   6.954243  1.0     6.0  10.0   \n8     100000000  9.000000e+07   7.954243  1.0     7.0  10.0   \n9    1000000000  9.000000e+08   8.954243  1.0     8.0  10.0   \n10  10000000000  9.000000e+09   9.954243  1.0     9.0  10.0   \n\n                cumProd  pctChange  \n2                   100        NaN  \n3                100000        9.0  \n4            1000000000        9.0  \n5       100000000000000        9.0  \n6   7766279631452241920        9.0  \n7  -6930898827444486144        9.0  \n8   3136633892082024448        9.0  \n9     80237960548581376        9.0  \n10 -7908320945662590976        9.0  ",
      "text/html": "<div>\n<style scoped>\n    .dataframe tbody tr th:only-of-type {\n        vertical-align: middle;\n    }\n\n    .dataframe tbody tr th {\n        vertical-align: top;\n    }\n\n    .dataframe thead th {\n        text-align: right;\n    }\n</style>\n<table border=\"1\" class=\"dataframe\">\n  <thead>\n    <tr style=\"text-align: right;\">\n      <th></th>\n      <th>powr10</th>\n      <th>diff</th>\n      <th>logOfDiff</th>\n      <th>log</th>\n      <th>cumLog</th>\n      <th>exp</th>\n      <th>cumProd</th>\n      <th>pctChange</th>\n    </tr>\n  </thead>\n  <tbody>\n    <tr>\n      <th>2</th>\n      <td>100</td>\n      <td>9.000000e+01</td>\n      <td>1.954243</td>\n      <td>1.0</td>\n      <td>1.0</td>\n      <td>10.0</td>\n      <td>100</td>\n      <td>NaN</td>\n    </tr>\n    <tr>\n      <th>3</th>\n      <td>1000</td>\n      <td>9.000000e+02</td>\n      <td>2.954243</td>\n      <td>1.0</td>\n      <td>2.0</td>\n      <td>10.0</td>\n      <td>100000</td>\n      <td>9.0</td>\n    </tr>\n    <tr>\n      <th>4</th>\n      <td>10000</td>\n      <td>9.000000e+03</td>\n      <td>3.954243</td>\n      <td>1.0</td>\n      <td>3.0</td>\n      <td>10.0</td>\n      <td>1000000000</td>\n      <td>9.0</td>\n    </tr>\n    <tr>\n      <th>5</th>\n      <td>100000</td>\n      <td>9.000000e+04</td>\n      <td>4.954243</td>\n      <td>1.0</td>\n      <td>4.0</td>\n      <td>10.0</td>\n      <td>100000000000000</td>\n      <td>9.0</td>\n    </tr>\n    <tr>\n      <th>6</th>\n      <td>1000000</td>\n      <td>9.000000e+05</td>\n      <td>5.954243</td>\n      <td>1.0</td>\n      <td>5.0</td>\n      <td>10.0</td>\n      <td>7766279631452241920</td>\n      <td>9.0</td>\n    </tr>\n    <tr>\n      <th>7</th>\n      <td>10000000</td>\n      <td>9.000000e+06</td>\n      <td>6.954243</td>\n      <td>1.0</td>\n      <td>6.0</td>\n      <td>10.0</td>\n      <td>-6930898827444486144</td>\n      <td>9.0</td>\n    </tr>\n    <tr>\n      <th>8</th>\n      <td>100000000</td>\n      <td>9.000000e+07</td>\n      <td>7.954243</td>\n      <td>1.0</td>\n      <td>7.0</td>\n      <td>10.0</td>\n      <td>3136633892082024448</td>\n      <td>9.0</td>\n    </tr>\n    <tr>\n      <th>9</th>\n      <td>1000000000</td>\n      <td>9.000000e+08</td>\n      <td>8.954243</td>\n      <td>1.0</td>\n      <td>8.0</td>\n      <td>10.0</td>\n      <td>80237960548581376</td>\n      <td>9.0</td>\n    </tr>\n    <tr>\n      <th>10</th>\n      <td>10000000000</td>\n      <td>9.000000e+09</td>\n      <td>9.954243</td>\n      <td>1.0</td>\n      <td>9.0</td>\n      <td>10.0</td>\n      <td>-7908320945662590976</td>\n      <td>9.0</td>\n    </tr>\n  </tbody>\n</table>\n</div>"
     },
     "execution_count": 3,
     "metadata": {},
     "output_type": "execute_result"
    }
   ],
   "source": [
    "powr10Series = np.power(10,[1,2,3,4,5,6,7,8,9,10])\n",
    "power10Df = pd.DataFrame(powr10Series, columns=['powr10'],index=[1,2,3,4,5,6,7,8,9,10])\n",
    "power10Df['diff'] = power10Df['powr10'].diff()\n",
    "power10Df['logOfDiff'] =np.log10(power10Df['powr10'].diff())\n",
    "power10Df['log'] = np.log10(power10Df['powr10']).diff()\n",
    "power10Df['cumLog'] = power10Df['log'].cumsum()\n",
    "power10Df = power10Df[1:]\n",
    "power10Df['exp']=10**power10Df['log'].cumprod(skipna=True)\n",
    "power10Df['cumProd'] =power10Df['powr10'].cumprod()\n",
    "power10Df['pctChange'] = power10Df['powr10'].pct_change(periods=1)\n",
    "# power10Df['logDiff']=np.log(powr10Series['powr10'])\n",
    "\n",
    "power10Df"
   ]
  },
  {
   "cell_type": "code",
   "execution_count": 4,
   "metadata": {
    "pycharm": {
     "name": "#%%\n"
    }
   },
   "outputs": [
    {
     "data": {
      "text/plain": "array([ 1,  2,  6, 60])"
     },
     "execution_count": 4,
     "metadata": {},
     "output_type": "execute_result"
    }
   ],
   "source": [
    "a = np.array([1,2,3,10])\n",
    "np.cumprod(a)\n",
    "\n"
   ]
  },
  {
   "cell_type": "code",
   "execution_count": 4,
   "outputs": [],
   "source": [],
   "metadata": {
    "collapsed": false,
    "pycharm": {
     "name": "#%%\n"
    }
   }
  },
  {
   "cell_type": "code",
   "execution_count": 4,
   "outputs": [],
   "source": [],
   "metadata": {
    "collapsed": false,
    "pycharm": {
     "name": "#%%\n"
    }
   }
  },
  {
   "cell_type": "code",
   "execution_count": 5,
   "outputs": [
    {
     "data": {
      "text/plain": "        value  p_change      diff  manually_done_change  log_change  \\\n0  100.000000       NaN       NaN                   NaN         NaN   \n1  104.000000      0.04  4.000000                  0.04    0.039221   \n2  108.160000      0.04  4.160000                  0.04    0.039221   \n3  112.486400      0.04  4.326400                  0.04    0.039221   \n4  116.985856      0.04  4.499456                  0.04    0.039221   \n5  121.665290      0.04  4.679434                  0.04    0.039221   \n6  126.531902      0.04  4.866612                  0.04    0.039221   \n7  131.593178      0.04  5.061276                  0.04    0.039221   \n8  136.856905      0.04  5.263727                  0.04    0.039221   \n9  142.331181      0.04  5.474276                  0.04    0.039221   \n\n   log_change2  sum_of_log_change  exp_of sum_of_log_change  \\\n0          NaN                NaN                       NaN   \n1     0.039221           0.039221                  1.040000   \n2     0.039221           0.078441                  1.081600   \n3     0.039221           0.117662                  1.124864   \n4     0.039221           0.156883                  1.169859   \n5     0.039221           0.196104                  1.216653   \n6     0.039221           0.235324                  1.265319   \n7     0.039221           0.274545                  1.315932   \n8     0.039221           0.313766                  1.368569   \n9     0.039221           0.352986                  1.423312   \n\n   prod_of_log_change  sum_prod_of_log_change  \n0                 NaN                     NaN  \n1        3.922071e-02                0.039221  \n2        1.538264e-03                0.040759  \n3        6.033182e-05                0.040819  \n4        2.366257e-06                0.040822  \n5        9.280629e-08                0.040822  \n6        3.639929e-09                0.040822  \n7        1.427606e-10                0.040822  \n8        5.599173e-12                0.040822  \n9        2.196036e-13                0.040822  ",
      "text/html": "<div>\n<style scoped>\n    .dataframe tbody tr th:only-of-type {\n        vertical-align: middle;\n    }\n\n    .dataframe tbody tr th {\n        vertical-align: top;\n    }\n\n    .dataframe thead th {\n        text-align: right;\n    }\n</style>\n<table border=\"1\" class=\"dataframe\">\n  <thead>\n    <tr style=\"text-align: right;\">\n      <th></th>\n      <th>value</th>\n      <th>p_change</th>\n      <th>diff</th>\n      <th>manually_done_change</th>\n      <th>log_change</th>\n      <th>log_change2</th>\n      <th>sum_of_log_change</th>\n      <th>exp_of sum_of_log_change</th>\n      <th>prod_of_log_change</th>\n      <th>sum_prod_of_log_change</th>\n    </tr>\n  </thead>\n  <tbody>\n    <tr>\n      <th>0</th>\n      <td>100.000000</td>\n      <td>NaN</td>\n      <td>NaN</td>\n      <td>NaN</td>\n      <td>NaN</td>\n      <td>NaN</td>\n      <td>NaN</td>\n      <td>NaN</td>\n      <td>NaN</td>\n      <td>NaN</td>\n    </tr>\n    <tr>\n      <th>1</th>\n      <td>104.000000</td>\n      <td>0.04</td>\n      <td>4.000000</td>\n      <td>0.04</td>\n      <td>0.039221</td>\n      <td>0.039221</td>\n      <td>0.039221</td>\n      <td>1.040000</td>\n      <td>3.922071e-02</td>\n      <td>0.039221</td>\n    </tr>\n    <tr>\n      <th>2</th>\n      <td>108.160000</td>\n      <td>0.04</td>\n      <td>4.160000</td>\n      <td>0.04</td>\n      <td>0.039221</td>\n      <td>0.039221</td>\n      <td>0.078441</td>\n      <td>1.081600</td>\n      <td>1.538264e-03</td>\n      <td>0.040759</td>\n    </tr>\n    <tr>\n      <th>3</th>\n      <td>112.486400</td>\n      <td>0.04</td>\n      <td>4.326400</td>\n      <td>0.04</td>\n      <td>0.039221</td>\n      <td>0.039221</td>\n      <td>0.117662</td>\n      <td>1.124864</td>\n      <td>6.033182e-05</td>\n      <td>0.040819</td>\n    </tr>\n    <tr>\n      <th>4</th>\n      <td>116.985856</td>\n      <td>0.04</td>\n      <td>4.499456</td>\n      <td>0.04</td>\n      <td>0.039221</td>\n      <td>0.039221</td>\n      <td>0.156883</td>\n      <td>1.169859</td>\n      <td>2.366257e-06</td>\n      <td>0.040822</td>\n    </tr>\n    <tr>\n      <th>5</th>\n      <td>121.665290</td>\n      <td>0.04</td>\n      <td>4.679434</td>\n      <td>0.04</td>\n      <td>0.039221</td>\n      <td>0.039221</td>\n      <td>0.196104</td>\n      <td>1.216653</td>\n      <td>9.280629e-08</td>\n      <td>0.040822</td>\n    </tr>\n    <tr>\n      <th>6</th>\n      <td>126.531902</td>\n      <td>0.04</td>\n      <td>4.866612</td>\n      <td>0.04</td>\n      <td>0.039221</td>\n      <td>0.039221</td>\n      <td>0.235324</td>\n      <td>1.265319</td>\n      <td>3.639929e-09</td>\n      <td>0.040822</td>\n    </tr>\n    <tr>\n      <th>7</th>\n      <td>131.593178</td>\n      <td>0.04</td>\n      <td>5.061276</td>\n      <td>0.04</td>\n      <td>0.039221</td>\n      <td>0.039221</td>\n      <td>0.274545</td>\n      <td>1.315932</td>\n      <td>1.427606e-10</td>\n      <td>0.040822</td>\n    </tr>\n    <tr>\n      <th>8</th>\n      <td>136.856905</td>\n      <td>0.04</td>\n      <td>5.263727</td>\n      <td>0.04</td>\n      <td>0.039221</td>\n      <td>0.039221</td>\n      <td>0.313766</td>\n      <td>1.368569</td>\n      <td>5.599173e-12</td>\n      <td>0.040822</td>\n    </tr>\n    <tr>\n      <th>9</th>\n      <td>142.331181</td>\n      <td>0.04</td>\n      <td>5.474276</td>\n      <td>0.04</td>\n      <td>0.039221</td>\n      <td>0.039221</td>\n      <td>0.352986</td>\n      <td>1.423312</td>\n      <td>2.196036e-13</td>\n      <td>0.040822</td>\n    </tr>\n  </tbody>\n</table>\n</div>"
     },
     "execution_count": 5,
     "metadata": {},
     "output_type": "execute_result"
    }
   ],
   "source": [
    "df = pd.DataFrame(np.fromfunction(lambda x: 100*((1+0.04)**x), [10]),columns=['value'])\n",
    "x =2\n",
    "a = 100*((1+0.04)**x)\n",
    "df['p_change'] = df.pct_change(periods=1)\n",
    "df['diff'] = df['value'].diff()\n",
    "df['manually_done_change']= (df['value']-df['value'].shift(1))/df['value'].shift(1)\n",
    "df['log_change'] = np.log(df['value']).diff()\n",
    "df['log_change2'] = np.log(df['value'])-np.log(df['value'].shift(1))\n",
    "\n",
    "df['sum_of_log_change'] = df['log_change'].cumsum()\n",
    "df['exp_of sum_of_log_change'] = np.exp(df['sum_of_log_change'])\n",
    "df['prod_of_log_change'] = df['log_change'].cumprod()\n",
    "df['sum_prod_of_log_change'] = df['prod_of_log_change'].cumsum()\n",
    "df"
   ],
   "metadata": {
    "collapsed": false,
    "pycharm": {
     "name": "#%%\n"
    }
   }
  },
  {
   "cell_type": "code",
   "execution_count": 6,
   "outputs": [
    {
     "data": {
      "text/plain": "0.42331099999999994"
     },
     "execution_count": 6,
     "metadata": {},
     "output_type": "execute_result"
    }
   ],
   "source": [
    "totalReturn = (142.3311-100)/100\n",
    "totalReturn"
   ],
   "metadata": {
    "collapsed": false,
    "pycharm": {
     "name": "#%%\n"
    }
   }
  },
  {
   "cell_type": "code",
   "execution_count": 7,
   "outputs": [
    {
     "data": {
      "text/plain": "0.42331099999999994"
     },
     "execution_count": 7,
     "metadata": {},
     "output_type": "execute_result"
    }
   ],
   "source": [
    "b = df['sum_of_log_change'][-1:]\n",
    "another_b = df['log_change'].sum()\n",
    "totalReturn2 = np.exp(b)-1\n",
    "totalReturn\n"
   ],
   "metadata": {
    "collapsed": false,
    "pycharm": {
     "name": "#%%\n"
    }
   }
  },
  {
   "cell_type": "code",
   "execution_count": 7,
   "outputs": [],
   "source": [],
   "metadata": {
    "collapsed": false,
    "pycharm": {
     "name": "#%%\n"
    }
   }
  }
 ],
 "metadata": {
  "kernelspec": {
   "display_name": "Python 3 (ipykernel)",
   "language": "python",
   "name": "python3"
  },
  "language_info": {
   "codemirror_mode": {
    "name": "ipython",
    "version": 3
   },
   "file_extension": ".py",
   "mimetype": "text/x-python",
   "name": "python",
   "nbconvert_exporter": "python",
   "pygments_lexer": "ipython3",
   "version": "3.9.12"
  }
 },
 "nbformat": 4,
 "nbformat_minor": 1
}